{
  "cells": [
    {
      "cell_type": "code",
      "execution_count": 2,
      "metadata": {
        "colab": {
          "base_uri": "https://localhost:8080/"
        },
        "id": "l8gsFePj9FBt",
        "outputId": "ef56d83b-35b4-4bc5-f8b5-448f4d6755f1"
      },
      "outputs": [
        {
          "name": "stdout",
          "output_type": "stream",
          "text": [
            "Plaintext: b'This is a test'\n",
            "Padded Text: b'This is a test\\x02\\x02'\n",
            "Ciphertext: b'\\x9b\\x001\\xe0\\x1aI+%\\xc7\\x1b\\xc2\\xa5\\xb4W\\x07 '\n",
            "IV: b'\\xb3#\\x1c\\xb9\\xda\\xc8\\x1c\\xf4'\n"
          ]
        }
      ],
      "source": [
        "from Crypto.Cipher import DES\n",
        "from Crypto.Util.Padding import pad, unpad\n",
        "\n",
        "# 8-byte key required for DES\n",
        "key = b'b1234567'\n",
        "\n",
        "\n",
        "cipher = DES.new(key, DES.MODE_CBC)\n",
        "\n",
        "\n",
        "plaintext = b'This is a test'\n",
        "padded_text = pad(plaintext, DES.block_size)\n",
        "\n",
        "\n",
        "ciphertext = cipher.encrypt(padded_text)\n",
        "\n",
        "print(\"Plaintext:\", plaintext)\n",
        "print(\"Padded Text:\", padded_text)\n",
        "print(\"Ciphertext:\", ciphertext)\n",
        "print(\"IV:\", cipher.iv)\n"
      ]
    },
    {
      "cell_type": "code",
      "execution_count": 3,
      "metadata": {
        "colab": {
          "base_uri": "https://localhost:8080/"
        },
        "id": "8w1roe1t9Ltc",
        "outputId": "25368cdd-1cb5-44b0-c722-b32118dfa7b3"
      },
      "outputs": [
        {
          "name": "stdout",
          "output_type": "stream",
          "text": [
            "Decrypted Message: b'This is a test'\n"
          ]
        }
      ],
      "source": [
        "# Çözücü oluştur\n",
        "dcipher = DES.new(key, DES.MODE_CBC, iv=cipher.iv)\n",
        "\n",
        "# Şifreli metni çöz\n",
        "decrypted_msg = unpad(dcipher.decrypt(ciphertext), DES.block_size)\n",
        "\n",
        "print(\"Decrypted Message:\", decrypted_msg)\n"
      ]
    },
    {
      "cell_type": "code",
      "execution_count": 4,
      "metadata": {
        "colab": {
          "base_uri": "https://localhost:8080/"
        },
        "id": "Wzc6ZIh09Scx",
        "outputId": "51b31ac2-576a-447e-9397-da0ef84633a2"
      },
      "outputs": [
        {
          "name": "stdout",
          "output_type": "stream",
          "text": [
            "Data: b'This is a test message'\n",
            "SHA3-256 Hash: dfce1be7affff1a4cd637356233d031b46aedf43176a734cbdfba4f8c178921e\n"
          ]
        }
      ],
      "source": [
        "from Crypto.Hash import SHA3_256\n",
        "\n",
        "# Hashleme nesnesi oluştur\n",
        "hasher = SHA3_256.new()\n",
        "\n",
        "# Hashlenecek veri\n",
        "data = b'This is a test message'\n",
        "hasher.update(data)\n",
        "\n",
        "# Hash değerini al\n",
        "hash_value = hasher.hexdigest()\n",
        "\n",
        "print(\"Data:\", data)\n",
        "print(\"SHA3-256 Hash:\", hash_value)\n"
      ]
    },
    {
      "cell_type": "code",
      "execution_count": 5,
      "metadata": {
        "colab": {
          "base_uri": "https://localhost:8080/"
        },
        "id": "DCgsY91A9bse",
        "outputId": "b37347c0-f7a8-4d10-d595-705e99b5daa5"
      },
      "outputs": [
        {
          "name": "stdout",
          "output_type": "stream",
          "text": [
            "Ciphertext: b'\\xf6t\\xd86B\\xf6\\xad@]\\x0c$\\xb8\\xff8><\\x8cw\\x94\\xe6 K'\n",
            "Nonce: b'\\x17\\xd8\\x84,}\\xf3\\x7f\\x00\\\\\\xf4\\x94o\\xcdN\\xd6\\x92'\n",
            "Tag: b'n\\x82\\xcewKj\\x13\\xad\\x81W\\x1a{\\x9dLD\\xb3'\n"
          ]
        }
      ],
      "source": [
        "from Crypto.Cipher import AES\n",
        "\n",
        "# 16 baytlık anahtar\n",
        "key = b'1234567812345678'\n",
        "\n",
        "# Şifrelenecek veri\n",
        "data = b'This is a test message'\n",
        "\n",
        "# AES şifreleyici (EAX modu)\n",
        "cipher = AES.new(key, AES.MODE_EAX)\n",
        "\n",
        "# Şifreleme işlemi\n",
        "nonce = cipher.nonce\n",
        "ciphertext, tag = cipher.encrypt_and_digest(data)\n",
        "\n",
        "print(\"Ciphertext:\", ciphertext)\n",
        "print(\"Nonce:\", nonce)\n",
        "print(\"Tag:\", tag)\n"
      ]
    },
    {
      "cell_type": "code",
      "execution_count": 6,
      "metadata": {
        "colab": {
          "base_uri": "https://localhost:8080/"
        },
        "id": "RrstjrRU9c2b",
        "outputId": "9ea1a1de-9f98-4f67-f1dd-7047aabba70b"
      },
      "outputs": [
        {
          "name": "stdout",
          "output_type": "stream",
          "text": [
            "Decrypted Message: b'This is a test message'\n"
          ]
        }
      ],
      "source": [
        "\n",
        "dcipher = AES.new(key, AES.MODE_EAX, nonce=nonce)\n",
        "\n",
        "decrypted_msg = dcipher.decrypt(ciphertext)\n",
        "\n",
        "print(\"Decrypted Message:\", decrypted_msg)\n"
      ]
    },
    {
      "cell_type": "code",
      "execution_count": 7,
      "metadata": {
        "colab": {
          "base_uri": "https://localhost:8080/"
        },
        "id": "SfF_vYBR9hrO",
        "outputId": "5bbf2570-38cc-4a73-c58b-1ab18ae94c43"
      },
      "outputs": [
        {
          "name": "stdout",
          "output_type": "stream",
          "text": [
            "DES Encryption Time: 0.0006148815155029297\n",
            "AES Encryption Time: 0.0003998279571533203\n",
            "SHA-3 Hashing Time: 0.0003490447998046875\n"
          ]
        }
      ],
      "source": [
        "import time\n",
        "from Crypto.Cipher import DES, AES\n",
        "from Crypto.Hash import SHA3_256\n",
        "from Crypto.Util.Padding import pad\n",
        "\n",
        "# Veri\n",
        "data = b'This is a test message' * 1000  # Büyük veri ile test edelim\n",
        "key_des = b'b1234567'\n",
        "key_aes = b'1234567812345678'\n",
        "\n",
        "# DES Zaman Testi\n",
        "cipher_des = DES.new(key_des, DES.MODE_CBC)\n",
        "start_time = time.time()\n",
        "ciphertext_des = cipher_des.encrypt(pad(data, DES.block_size))\n",
        "end_time = time.time()\n",
        "print(\"DES Encryption Time:\", end_time - start_time)\n",
        "\n",
        "# AES Zaman Testi\n",
        "cipher_aes = AES.new(key_aes, AES.MODE_EAX)\n",
        "start_time = time.time()\n",
        "ciphertext_aes, tag = cipher_aes.encrypt_and_digest(data)\n",
        "end_time = time.time()\n",
        "print(\"AES Encryption Time:\", end_time - start_time)\n",
        "\n",
        "# SHA-3 Zaman Testi\n",
        "hasher = SHA3_256.new()\n",
        "start_time = time.time()\n",
        "hasher.update(data)\n",
        "hash_value = hasher.hexdigest()\n",
        "end_time = time.time()\n",
        "print(\"SHA-3 Hashing Time:\", end_time - start_time)\n"
      ]
    }
  ],
  "metadata": {
    "colab": {
      "provenance": []
    },
    "kernelspec": {
      "display_name": "Python 3",
      "name": "python3"
    },
    "language_info": {
      "codemirror_mode": {
        "name": "ipython",
        "version": 3
      },
      "file_extension": ".py",
      "mimetype": "text/x-python",
      "name": "python",
      "nbconvert_exporter": "python",
      "pygments_lexer": "ipython3",
      "version": "3.12.6"
    }
  },
  "nbformat": 4,
  "nbformat_minor": 0
}
